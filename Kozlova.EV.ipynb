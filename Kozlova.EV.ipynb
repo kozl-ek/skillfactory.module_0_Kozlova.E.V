import random
number = random.randint(1,100)    # загадали число


def change(a):  #Задаем функцию, изменяющую размер шага, на который мы будем менять число. Размер шага не должен быть меньше одного, чтобы избежать зацикливания.
    if a!=1:
        a=a//2
    return(a)

def tasksolution(number): #Задаем функцию,которая будет угадывать число
    thinknumber=50 # задаем число, с которым будем сравнивать число, которое загадал компьютер. Выбрали 50 для ускорения процесса поиска файла.
    step=25 # устанавливаем размер шага- число, на которое мы будем менять thinknumber в зависимости от результата сравнения.
    i=0     
    while number!=thinknumber :
        i+=1
        if number>thinknumber:
            thinknumber+=step
            step=change(step)
        elif number<thinknumber:
            thinknumber-=step
            step=change(step)
    return(thinknumber)
print('Компьютер загадал число {}'.format(tasksolution(number)))